{
 "cells": [
  {
   "cell_type": "code",
   "execution_count": 8,
   "id": "ee09b77e-aa99-4401-930d-660138913d04",
   "metadata": {},
   "outputs": [],
   "source": [
    "import pandas as pd\n",
    "import folium\n",
    "\n",
    "filePath = r'지역별 폭염일수.xlsx'\n",
    "df_from_excel = pd.read_excel(filePath,engine='openpyxl')\n",
    "\n",
    "df_from_excel.columns = ['이름','경도','위도','폭염일수']\n",
    "\n",
    "name_list = df_from_excel['이름'].to_list()\n",
    "count_list = df_from_excel['폭염일수'].to_list()\n",
    "position_x_list = df_from_excel['경도'].to_list()\n",
    "position_y_list = df_from_excel['위도'].to_list()\n",
    "\n",
    "map = folium.Map(location=[37,127],zoom_start=7)\n",
    "\n",
    "for i in range(len(name_list)):\n",
    "    if position_x_list[i] != 0:\n",
    "        marker = folium.Marker([position_y_list[i],position_x_list[i]],\n",
    "                            popup=name_list[i], \n",
    "                            icon = folium.Icon(color='blue'))\n",
    "        marker.add_to(map) \n",
    "\n",
    "map.save(r'폭염일수.html')"
   ]
  },
  {
   "cell_type": "code",
   "execution_count": null,
   "id": "a04f8311-7ad1-4e8c-9185-0d8196b1f5e5",
   "metadata": {},
   "outputs": [],
   "source": []
  }
 ],
 "metadata": {
  "kernelspec": {
   "display_name": "Python 3 (ipykernel)",
   "language": "python",
   "name": "python3"
  },
  "language_info": {
   "codemirror_mode": {
    "name": "ipython",
    "version": 3
   },
   "file_extension": ".py",
   "mimetype": "text/x-python",
   "name": "python",
   "nbconvert_exporter": "python",
   "pygments_lexer": "ipython3",
   "version": "3.11.7"
  }
 },
 "nbformat": 4,
 "nbformat_minor": 5
}
