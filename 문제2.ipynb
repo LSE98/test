{
 "cells": [
  {
   "cell_type": "code",
   "execution_count": 5,
   "id": "f73af770-6866-4704-9ab8-fe8ef674c962",
   "metadata": {},
   "outputs": [],
   "source": [
    "import folium\n",
    "\n",
    "map = folium.Map(location=[35,127],zoom_start=10)\n",
    "\n",
    "marker = folium.Marker([35.182828129,126.879188601],\n",
    "                    popup='한국폴리텍V대학 광주캠퍼스', \n",
    "                    icon = folium.Icon(color='blue'))\n",
    "\n",
    "marker.add_to(map) \n",
    "\n",
    "map.save(r'광주캠퍼스 마커.html')"
   ]
  },
  {
   "cell_type": "code",
   "execution_count": null,
   "id": "9fbc8375-ace3-4b18-82c6-1b542bd0d396",
   "metadata": {},
   "outputs": [],
   "source": []
  }
 ],
 "metadata": {
  "kernelspec": {
   "display_name": "Python 3 (ipykernel)",
   "language": "python",
   "name": "python3"
  },
  "language_info": {
   "codemirror_mode": {
    "name": "ipython",
    "version": 3
   },
   "file_extension": ".py",
   "mimetype": "text/x-python",
   "name": "python",
   "nbconvert_exporter": "python",
   "pygments_lexer": "ipython3",
   "version": "3.11.7"
  }
 },
 "nbformat": 4,
 "nbformat_minor": 5
}
